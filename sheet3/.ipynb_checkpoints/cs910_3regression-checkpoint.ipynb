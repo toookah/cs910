{
 "cells": [
  {
   "cell_type": "code",
   "execution_count": 13,
   "metadata": {},
   "outputs": [],
   "source": [
    "#Plotting Data\n",
    "import matplotlib.pyplot as plt\n",
    "import pandas as pd\n",
    "import numpy as np\n",
    "from scipy import optimize\n",
    "from numpy import cov\n",
    "from scipy.stats import pearsonr"
   ]
  },
  {
   "cell_type": "code",
   "execution_count": 3,
   "metadata": {},
   "outputs": [
    {
     "data": {
      "text/plain": [
       "Index(['Sex', 'Length', 'Diameter', 'Height', 'Whole weight', 'Shucked weight',\n",
       "       'Viscera weight', 'Shell weight', 'Rings'],\n",
       "      dtype='object')"
      ]
     },
     "execution_count": 3,
     "metadata": {},
     "output_type": "execute_result"
    }
   ],
   "source": [
    "data1=pd.read_csv('abalone.data',header=None)\n",
    "data1.columns=['Sex','Length','Diameter','Height','Whole weight','Shucked weight','Viscera weight','Shell weight','Rings']\n",
    "data1.columns"
   ]
  },
  {
   "cell_type": "code",
   "execution_count": 5,
   "metadata": {},
   "outputs": [
    {
     "name": "stdout",
     "output_type": "stream",
     "text": [
      "a1=0.8154606910619577\n",
      "b1=-0.019413705138071637\n"
     ]
    },
    {
     "data": {
      "text/plain": [
       "[<matplotlib.lines.Line2D at 0x7f54d71f7048>]"
      ]
     },
     "execution_count": 5,
     "metadata": {},
     "output_type": "execute_result"
    },
    {
     "data": {
      "image/png": "[encoded data removed]",
      "text/plain": [
       "<Figure size 432x288 with 1 Axes>"
      ]
     },
     "metadata": {
      "needs_background": "light"
     },
     "output_type": "display_data"
    }
   ],
   "source": [
    "x=data1['Length']\n",
    "y=data1['Diameter']\n",
    "\n",
    "def f_1(x,a,b):\n",
    "    return a*x+b\n",
    "a1,b1=optimize.curve_fit(f_1,x,y)[0]\n",
    "print(\"a1=\"+str(a1))\n",
    "print(\"b1=\"+str(b1))\n",
    "x1=np.arange(0,1,0.01)\n",
    "y1=a1*x1+b1\n",
    "plt.scatter(x,y,marker='+')\n",
    "#plt.plot(x,y,'+',color='black')\n",
    "plt.plot(x1,y1,\"black\")\n"
   ]
  },
  {
   "cell_type": "code",
   "execution_count": 12,
   "metadata": {},
   "outputs": [
    {
     "name": "stdout",
     "output_type": "stream",
     "text": [
      "cov(x,y)=[[0.01442231 0.01176082]\n",
      " [0.01176082 0.00984855]]\n",
      "cov(x1,y1)=[[0.08416667 0.06863461]\n",
      " [0.06863461 0.05596883]]\n"
     ]
    }
   ],
   "source": [
    "'''\n",
    "print(\"cov(x,y)=\"+str(cov(x,y)))\n",
    "print(\"cov(x1,y1)=\"+str(cov(x1,y1)))\n",
    "'''"
   ]
  },
  {
   "cell_type": "code",
   "execution_count": 19,
   "metadata": {},
   "outputs": [
    {
     "name": "stdout",
     "output_type": "stream",
     "text": [
      "Pearsons correlation: 0.9999999999999999\n"
     ]
    }
   ],
   "source": [
    "corr,_=pearsonr(x1,y1)\n",
    "print('Pearsons correlation: '+str(corr))"
   ]
  },
  {
   "cell_type": "code",
   "execution_count": null,
   "metadata": {},
   "outputs": [],
   "source": []
  }
 ],
 "metadata": {
  "kernelspec": {
   "display_name": "Python 3",
   "language": "python",
   "name": "python3"
  },
  "language_info": {
   "codemirror_mode": {
    "name": "ipython",
    "version": 3
   },
   "file_extension": ".py",
   "mimetype": "text/x-python",
   "name": "python",
   "nbconvert_exporter": "python",
   "pygments_lexer": "ipython3",
   "version": "3.6.8"
  }
 },
 "nbformat": 4,
 "nbformat_minor": 2
}
